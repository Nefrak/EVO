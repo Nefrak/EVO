{
  "cells": [
    {
      "cell_type": "code",
      "execution_count": 2,
      "metadata": {
        "trusted": true
      },
      "outputs": [
        {
          "name": "stdout",
          "output_type": "stream",
          "text": [
            "[[77 77 78 76 79 77 76 75 75 77 76 80 76 75 76 78 74 73 78 77 78 80 78 77\n",
            "  77 79 76 78 76 77]\n",
            " [70 71 71 72 70 70 71 69 73 69 73 69 70 67 72 70 71 70 73 71 71 70 70 68\n",
            "  70 72 70 68 70 69]]\n",
            "mean     =  [76.86666667 70.33333333]\n",
            "st_dev   =  [1.5860503  1.44529889]\n",
            "variance =  [2.51555556 2.08888889]\n",
            "skewness =  [-0.13152064  0.00245354]\n",
            "kurtosis =  [ 0.0317272  -0.16161159]\n",
            "mininum  =  [73. 67.]\n",
            "first_Q  =  [76. 70.]\n",
            "median   =  [77. 70.]\n",
            "third_Q  =  [78. 71.]\n",
            "maximum  =  [80. 73.]\n"
          ]
        }
      ],
      "source": [
        "#!/usr/bin/env python3\n",
        "#==================================================================================================================\n",
        "# Biologii Inspirovane Pocitace (BIN 2021/22L) - 2. cviceni - Statisticke vyhodnocovani evolucnich experimentu\n",
        "#   Jakub Husa (ihusa@fit.vut.cz) 2022-03-23\n",
        "#==================================================================================================================\n",
        "# \n",
        "# Tento program implementuje jednoduchy geneticky algoritmus, se steady-state populaci\n",
        "#   vyberem pomoci turnaje, jednobodovym krizenim, a uniformni mutaci\n",
        "#\n",
        "# populace je tvorena konstantim mnozstvim jedincu, kazdy jedinec je tvoren dvojici (fitness, chromozom)\n",
        "#   chromozom je tvoren vektorem jednicek a nul, konstantni delky\n",
        "#   fitness je definovana jako pocet prechodu mezi nulami a jednickami v jeho chromozomu, napriklad:\n",
        "#     fitness(00000000) = 0\n",
        "#     fitness(10001100) = 3\n",
        "#     fitness(01010101) = 7  \n",
        "#   cilem evoluce je fitness maximalizovat, tedy najit jedince s fitness = \"CHROM_LENGTH - 1\"\n",
        "#  \n",
        "# selekce probiha turnajem - z populace jsou nahodne zvoleni tri ruzni jedinci\n",
        "#   a nejhorsi z nich je nahrazen bud krizencem druhych dvou (pokud dochazi ke krizeni)\n",
        "#   nebo klonem nejlepsiho z nich (pokud ke krizeni nedojde)\n",
        "#   a tento nove vytvoreny jedinec je pak zmutovan\n",
        "#   \n",
        "# fitness nejlepsiho jedince v kazde evaluaci kazdeho behu je ukladana do pole \"results\"\n",
        "#   jehoz obsah ne ka noci programu statisticky zpracovan\n",
        "#\n",
        "# Vasim ukolem je si zdrojovy kod precist, dle potreby upravit evolucni parametry, a statisticky vyhodnotit jeho vystup\n",
        "# \n",
        "#==================================================================================================================\n",
        "# Knihovny - pokud chcete pridejte si vlastni\n",
        "#==================================================================================================================\n",
        "                 \n",
        "import matplotlib.pyplot as plt                                                 # knihovna pro kresleni grafu\n",
        "import scipy.stats as st                                                        # knihovna pro statisticke vypocty\n",
        "import numpy as np                                                              # knihovna pro pokrocilou matematiku\n",
        "np.random.seed(0)                                                              # fixace seedu generatoru nahodnych cisel\n",
        "           \n",
        "#==================================================================================================================\n",
        "# Evolucni parametry - s timto si byste si meli hrat \n",
        "#==================================================================================================================\n",
        "\n",
        "RUNS           = 30           #[1,inf)                                          # pocet nezavislych behu       \n",
        "EVALUATIONS    = 1000         #[POP_SIZE,inf)                                   # pocet evaluaci v kazdem behu \n",
        "POP_SIZE       = 10           #[3,inf)                                          # pocet jedincu v populaci    \n",
        "CHROM_LENGTH   = 100          #[1,inf)                                          # delka chromozomu kazdeho jedince    \n",
        "CROSSOVER_RATE = 0.5          #[0,1]                                            # pravdepodobnost krizeni        \n",
        "MUTATION_RATES = [0.10, 0.20] #[0,1]                                            # pravdepodobnosti mutaci (volitelny parametr)       \n",
        "\n",
        "#==================================================================================================================\n",
        "# Definice pouzivanych funkci - prectete si, upravy by nemely byt potreba\n",
        "#==================================================================================================================\n",
        "\n",
        "def fitness(chrom):                                                             # funkce pro vypocet fitness chromozomu\n",
        "    a = chrom[1:]                                                               # chromozom bez prvniho prvku\n",
        "    b = chrom[:-1]                                                              # chromozom bez posledniho prvku\n",
        "    return np.sum(a^b)                                                          # vysledkem je suma XORu obou posunutyhc listu\n",
        "\n",
        "def mutate(chrom, p):                                                           # funkce mutace chromozomu\n",
        "    temp = np.random.binomial(1, p, CHROM_LENGTH)                               # vytvarime vektor zmen\n",
        "    return (chrom ^ temp)                                                       # vracime XOR vektoru a jeho zmen\n",
        "\n",
        "def crossover(chromA, chromB):                                                  # funkce krizeni chromozomu\n",
        "    cut = np.random.randint(1, CHROM_LENGTH)                                    # bod krizeni chromozmomu\n",
        "    if np.random.binomial(1, 0.5):                                              # volime ktery rodic preda zacatek/konec sveho chromozomu\n",
        "        return np.concatenate((chromA[:cut], chromB[cut:]))                     # rodic A preda zacatek, rodic B preda konec\n",
        "    else:                                                                       # jinak\n",
        "        return np.concatenate((chromB[:cut], chromA[cut:]))                     # rodic B preda zacatek, rodic A preda konec\n",
        "    \n",
        "def selection(population):                                                      # funkce vyberu turnajem\n",
        "    t = np.random.choice(POP_SIZE, 3, replace=False)                            # z populace nahodne vybereme tri ruzne jedince\n",
        "    t = sorted(t, key=lambda x: population[x][0])                               # seradime je dle hodnoty jejich fitness\n",
        "    return t[2], t[1], t[0]                                                     # zvolene indexy vracime v poradi: nejlepsi, druhy, nehorsi\n",
        "\n",
        "#==================================================================================================================\n",
        "# evolucni algoritmus - prectete si, upravy by nemely byt potreba\n",
        "#==================================================================================================================\n",
        "\n",
        "results = np.empty(shape=(len(MUTATION_RATES),RUNS,EVALUATIONS), dtype=int)     # tabulka vysledku, uklada nejlepsi fitness kazdeho behu a evaluace\n",
        "pop = []                                                                        # seznam ve kterem bude nase populace\n",
        "\n",
        "for id_mut in np.arange(0,len(MUTATION_RATES)):                                 # pro kazdou uroven mutace v MUTATION_RATES (zkoumany parametr)\n",
        "    for run in np.arange(0,RUNS):                                               # pro RUNS nezavislych behu\n",
        "        pop.clear()                                                             # vytvarime novou, prazdnou populaci\n",
        "        max_fit = -1                                                            # resetujeme nejlepsi fitness\n",
        "\n",
        "        for i in np.arange(0,POP_SIZE):                                         # vytvarime pocatecni populaci\n",
        "            individual = [-1, np.random.binomial(1,0.5,CHROM_LENGTH)]           # nahodne inicializujeme chromozom\n",
        "            individual[0] = fitness(individual[1])                              # vypocet fitness\n",
        "            pop.append(individual)                                              # jedince vkladame do populace\n",
        "            if individual[0] > max_fit:                                         # pokud doslo ke zlepseni fitness\n",
        "                max_fit = individual[0]                                         # aktualizujeme nejlepsi fitness\n",
        "            results[id_mut][run][i] = max_fit                                   # zapisujeme si vysledek\n",
        "\n",
        "        for evaluation in np.arange(POP_SIZE,EVALUATIONS):                      # pro zbyvajici pocet evaluaci\n",
        "            id_best, id_second, id_worst = selection(pop)                       # selekce vraci indexy 3 jedincu (turnaj), serazene dne jejich fitness\n",
        "\n",
        "            if np.random.rand() < CROSSOVER_RATE:                               # pokud by melo dojit ke krizeni\n",
        "                pop[id_worst][1] = crossover(pop[id_best][1], pop[id_second][1])# potomek vznikne krizenim dvou nejlepsich jedincu\n",
        "            else:                                                               # jinak\n",
        "                pop[id_worst][1] = pop[id_best][1].copy()                       # potomek vznikne klonovanim nejlepsiho jedince\n",
        "            \n",
        "            pop[id_worst][1] = mutate(pop[id_worst][1], MUTATION_RATES[id_mut]) # potomek je vzdy mutovan\n",
        "            pop[id_worst][0] = fitness(pop[id_worst][1])                        # vypocet fitness potomka\n",
        "\n",
        "            if pop[id_worst][0] > max_fit:                                      # pokud doslo ke zlepseni fitness           \n",
        "                max_fit = pop[id_worst][0]                                      # aktualizujeme nejlepsi fitness\n",
        "            results[id_mut][run][evaluation] = max_fit                          # zapisujeme si vysledek\n",
        "\n",
        "#==================================================================================================================\n",
        "# Vypis vyberovych charakteristik  - prectete si, upravy by nemely byt potreba\n",
        "#==================================================================================================================\n",
        "\n",
        "outputs = results[:,:,-1]                                                       # z tabulky vysledku extrahujeme posledni soupec (fitness nejlepsiho jedince na konci kazdeho behu)\n",
        "print(outputs)                                                                  # vypis vysledku (jen pro kontrolu)\n",
        "\n",
        "mean = np.mean(outputs, axis=1)                                                 # stredni hodnota  \n",
        "standard_deviation = np.std(outputs, axis=1)                                    # smerodatna odchylka\n",
        "variance = np.var(outputs, axis=1)                                              # rozptyl\n",
        "skewness = st.skew(outputs, axis=1)                                             # sikmost\n",
        "kurtosis = st.kurtosis(outputs, axis=1)                                         # spicatost\n",
        "quantiles = np.quantile(outputs, (0.0,0.25,0.5,0.75,1.0), axis=1)               # kvantily (minium, 1.kvartil, median, 3.kvartil, maximum)\n",
        "\n",
        "print('mean     = ', mean)                                                      # vypis vyberovych charakteristik\n",
        "print('st_dev   = ', standard_deviation)                                        # vypis vyberovych charakteristik\n",
        "print('variance = ', variance)                                                  # vypis vyberovych charakteristik\n",
        "print('skewness = ', skewness)                                                  # vypis vyberovych charakteristik\n",
        "print('kurtosis = ', kurtosis)                                                  # vypis vyberovych charakteristik\n",
        "print('mininum  = ', quantiles[0])                                              # vypis vyberovych charakteristik\n",
        "print('first_Q  = ', quantiles[1])                                              # vypis vyberovych charakteristik\n",
        "print('median   = ', quantiles[2])                                              # vypis vyberovych charakteristik\n",
        "print('third_Q  = ', quantiles[3])                                              # vypis vyberovych charakteristik\n",
        "print('maximum  = ', quantiles[4])                                              # vypis vyberovych charakteristik"
      ]
    },
    {
      "cell_type": "code",
      "execution_count": 2,
      "metadata": {
        "trusted": true
      },
      "outputs": [
        {
          "name": "stdout",
          "output_type": "stream",
          "text": [
            "[43. 44. 46. 46. 50. 50. 52. 52. 52. 52. 52. 52. 52. 52. 52. 52. 52. 52.\n",
            " 52. 52. 52. 52. 52. 52. 56. 56. 56. 56. 56. 56. 56. 56. 56. 56. 58. 58.\n",
            " 58. 58. 58. 58. 58. 58. 58. 58. 58. 59. 59. 59. 59. 59. 59. 59. 59. 59.\n",
            " 59. 59. 59. 59. 59. 59. 59. 59. 59. 59. 59. 61. 61. 61. 61. 61. 61. 61.\n",
            " 61. 61. 61. 61. 61. 61. 61. 61. 61. 61. 61. 61. 61. 62. 62. 62. 62. 62.\n",
            " 62. 62. 62. 62. 62. 62. 62. 62. 62. 62. 62. 62. 62. 62. 62. 62. 62. 62.\n",
            " 62. 62. 63. 63. 64. 64. 64. 64. 64. 64. 64. 64. 64. 64. 64. 64. 64. 64.\n",
            " 64. 64. 64. 64. 64. 64. 64. 64. 64. 64. 64. 64. 64. 64. 64. 64. 64. 64.\n",
            " 64. 64. 64. 64. 64. 64. 64. 64. 64. 64. 64. 64. 64. 64. 64. 64. 64. 64.\n",
            " 65. 65. 66. 66. 66. 66. 66. 66. 66. 66. 66. 66. 66. 66. 66. 66. 66. 66.\n",
            " 66. 66. 66. 66. 66. 66. 66. 66. 66. 66. 66. 66. 66. 66. 66. 66. 66. 66.\n",
            " 66. 66. 66. 66. 66. 66. 66. 66. 66. 66. 66. 66. 66. 66. 66. 66. 66. 66.\n",
            " 66. 66. 66. 66. 66. 66. 66. 66. 66. 66. 66. 66. 66. 66. 66. 66. 66. 66.\n",
            " 66. 66. 66. 66. 66. 66. 66. 66. 66. 66. 66. 66. 66. 66. 66. 66. 66. 66.\n",
            " 66. 66. 66. 66. 66. 66. 66. 66. 66. 66. 66. 66. 66. 66. 67. 67. 67. 67.\n",
            " 67. 67. 67. 67. 67. 67. 67. 67. 67. 67. 67. 67. 67. 67. 67. 67. 67. 67.\n",
            " 67. 67. 67. 67. 67. 67. 67. 67. 67. 67. 67. 67. 67. 67. 67. 67. 67. 67.\n",
            " 67. 67. 67. 67. 67. 67. 69. 69. 69. 69. 69. 69. 69. 69. 69. 69. 69. 69.\n",
            " 69. 69. 69. 69. 69. 69. 69. 69. 69. 69. 69. 69. 69. 69. 69. 69. 69. 69.\n",
            " 69. 69. 69. 69. 69. 69. 69. 69. 69. 69. 69. 69. 69. 69. 69. 69. 69. 69.\n",
            " 69. 69. 69. 69. 69. 69. 69. 69. 69. 69. 69. 69. 69. 69. 69. 69. 69. 69.\n",
            " 69. 69. 69. 69. 69. 69. 69. 69. 69. 69. 69. 69. 69. 69. 69. 69. 69. 69.\n",
            " 69. 69. 69. 69. 69. 69. 69. 69. 69. 69. 69. 69. 69. 69. 69. 69. 69. 69.\n",
            " 69. 69. 69. 69. 69. 69. 69. 69. 69. 69. 69. 69. 69. 69. 69. 69. 69. 69.\n",
            " 69. 69. 69. 69. 69. 69. 69. 69. 69. 69. 69. 69. 69. 69. 69. 69. 69. 69.\n",
            " 69. 69. 69. 69. 69. 69. 69. 69. 69. 69. 69. 69. 69. 69. 69. 69. 69. 69.\n",
            " 69. 69. 69. 69. 69. 69. 69. 69. 69. 69. 69. 69. 69. 69. 69. 69. 69. 69.\n",
            " 69. 69. 69. 69. 69. 69. 69. 69. 69. 69. 69. 69. 69. 69. 69. 69. 69. 69.\n",
            " 69. 69. 69. 69. 69. 69. 69. 69. 70. 70. 70. 70. 70. 70. 70. 70. 70. 70.\n",
            " 70. 70. 70. 70. 70. 70. 70. 70. 70. 70. 70. 70. 70. 70. 70. 70. 70. 70.\n",
            " 70. 70. 70. 70. 70. 70. 70. 70. 70. 70. 70. 70. 70. 70. 70. 70. 70. 70.\n",
            " 70. 70. 70. 70. 70. 70. 70. 70. 70. 70. 70. 70. 70. 70. 70. 70. 70. 70.\n",
            " 70. 70. 70. 70. 70. 70. 70. 70. 70. 70. 70. 70. 70. 70. 70. 70. 70. 70.\n",
            " 70. 70. 70. 71. 71. 71. 71. 71. 71. 71. 71. 71. 71. 71. 71. 71. 71. 71.\n",
            " 71. 71. 71. 71. 71. 71. 71. 71. 71. 71. 71. 71. 71. 71. 71. 71. 71. 71.\n",
            " 71. 71. 71. 71. 71. 71. 71. 71. 71. 71. 71. 71. 71. 71. 71. 71. 71. 71.\n",
            " 71. 71. 71. 71. 71. 71. 71. 71. 71. 71. 71. 71. 71. 71. 71. 71. 71. 71.\n",
            " 71. 71. 71. 71. 71. 71. 71. 71. 71. 71. 71. 71. 71. 71. 71. 71. 71. 71.\n",
            " 71. 71. 71. 71. 71. 71. 71. 71. 71. 71. 71. 71. 71. 71. 71. 71. 71. 71.\n",
            " 72. 72. 72. 72. 72. 72. 72. 72. 72. 72. 72. 72. 72. 72. 72. 72. 72. 72.\n",
            " 72. 72. 72. 72. 72. 72. 72. 72. 72. 72. 72. 72. 72. 72. 72. 72. 72. 72.\n",
            " 72. 72. 72. 72. 72. 72. 72. 72. 72. 72. 72. 72. 72. 72. 72. 72. 72. 72.\n",
            " 72. 72. 72. 72. 72. 72. 72. 72. 72. 72. 72. 72. 72. 72. 72. 72. 72. 72.\n",
            " 72. 72. 72. 72. 72. 72. 72. 72. 72. 72. 72. 72. 72. 72. 72. 72. 72. 72.\n",
            " 72. 72. 72. 72. 72. 72. 72. 72. 72. 72. 72. 72. 72. 72. 72. 72. 72. 72.\n",
            " 72. 72. 72. 72. 72. 72. 72. 72. 72. 72. 72. 72. 72. 72. 72. 72. 72. 72.\n",
            " 72. 72. 72. 72. 72. 72. 72. 72. 72. 72. 72. 72. 72. 72. 72. 72. 72. 72.\n",
            " 72. 72. 72. 72. 72. 72. 72. 72. 72. 72. 72. 72. 72. 72. 72. 72. 72. 72.\n",
            " 72. 72. 72. 72. 72. 72. 72. 72. 72. 72. 72. 72. 72. 72. 72. 72. 72. 72.\n",
            " 72. 72. 72. 72. 72. 72. 72. 72. 72. 72. 72. 72. 72. 72. 72. 72. 72. 72.\n",
            " 72. 72. 72. 72. 72. 72. 73. 73. 73. 73. 73. 73. 73. 73. 73. 73. 73. 73.\n",
            " 73. 73. 73. 73. 73. 73. 73. 73. 73. 73. 73. 73. 73. 73. 73. 73. 73. 73.\n",
            " 73. 73. 73. 73. 73. 73. 73. 73. 73. 73. 73. 73. 73. 73. 73. 73. 73. 73.\n",
            " 73. 73. 73. 73. 73. 73. 73. 73. 73. 73. 73. 73. 73. 73. 73. 73. 73. 73.\n",
            " 73. 73. 73. 73. 73. 73. 73. 73. 73. 73. 73. 73. 73. 73. 73. 73. 73. 73.\n",
            " 73. 73. 73. 73. 73. 73. 73. 73. 73. 73.]\n"
          ]
        },
        {
          "data": {
            "image/png": "[encoded data removed]",
            "text/plain": [
              "<Figure size 432x288 with 1 Axes>"
            ]
          },
          "metadata": {
            "needs_background": "light"
          },
          "output_type": "display_data"
        }
      ],
      "source": [
        "#==================================================================================================================\n",
        "# Konvergencni krivka - pro jeden parametr \n",
        "#==================================================================================================================\n",
        "\n",
        "outputs = results[0,:,:]\n",
        "plt.figure(figsize=(6,4))      \n",
        "min = np.quantile(outputs, (0.0), axis=0)\n",
        "med = np.quantile(outputs, (0.5), axis=0) \n",
        "max = np.quantile(outputs, (1), axis=0)\n",
        "\n",
        "# pro jedno nastaveni mutace vykreslete konvergencni krivku\n",
        "x = np.arange(1,EVALUATIONS + 1)\n",
        "y = [min, med, max]\n",
        "plt.xscale('log')\n",
        "plt.plot(x,y[1],color='C0')\n",
        "plt.fill_between(x,y[0],y[2], color='C0',alpha=0.4)\n",
        "plt.axhline(99, color=\"black\", linestyle=\"--\")\n",
        "plt.xlabel('Pocet evaluaci')\n",
        "plt.ylabel('Fitness')\n",
        "plt.title('Konvergencni krivka')\n",
        "\n",
        "plt.show()                                                           \n",
        "plt.close()   "
      ]
    },
    {
      "cell_type": "code",
      "execution_count": 89,
      "metadata": {
        "trusted": true
      },
      "outputs": [
        {
          "name": "stdout",
          "output_type": "stream",
          "text": [
            "81\n"
          ]
        },
        {
          "data": {
            "image/png": "[encoded data removed]",
            "text/plain": [
              "<pyolite.display.Image at 0x831bda8>"
            ]
          },
          "metadata": {},
          "output_type": "display_data"
        }
      ],
      "source": [
        "#==================================================================================================================\n",
        "# Histogram - pro jeden parametr \n",
        "#==================================================================================================================\n",
        "\n",
        "outputs = results[0,:,-1]\n",
        "plt.figure(figsize=(6,4))\n",
        "min = int(np.quantile(outputs, (0.0), axis=0))\n",
        "max = int(np.quantile(outputs, (1), axis=0))\n",
        "print(max)\n",
        "\n",
        "# pro jedno nastaveni mutace vykreslete histogram\n",
        "x = outputs\n",
        "plt.hist(x, bins=max-min+1, range=(min,max), density=True)\n",
        "plt.xlabel('Fitness')\n",
        "plt.ylabel('Outputs')\n",
        "plt.title('Histogram')\n",
        "\n",
        "plt.show()\n",
        "plt.close()"
      ]
    },
    {
      "cell_type": "code",
      "execution_count": 3,
      "metadata": {
        "trusted": true
      },
      "outputs": [
        {
          "name": "stdout",
          "output_type": "stream",
          "text": [
            "[77 77 78 76 79 77 76 75 75 77 76 80 76 75 76 78 74 73 78 77 78 80 78 77\n",
            " 77 79 76 78 76 77]\n"
          ]
        },
        {
          "data": {
            "image/png": "[encoded data removed]",
            "text/plain": [
              "<Figure size 432x288 with 1 Axes>"
            ]
          },
          "metadata": {
            "needs_background": "light"
          },
          "output_type": "display_data"
        }
      ],
      "source": [
        "#==================================================================================================================\n",
        "# Boxplot - pro vsechny parametry \n",
        "#==================================================================================================================\n",
        "\n",
        "sampleA = results[0,:,-1]\n",
        "sampleB = results[1,:,-1]\n",
        "plt.figure(figsize=(6,4))\n",
        "min = np.quantile(outputs, (0.0), axis=0)\n",
        "med = np.quantile(outputs, (0.5), axis=0) \n",
        "max = np.quantile(outputs, (1), axis=0)\n",
        "\n",
        "# pro vsechna ruzna nastaveni mutace vykreslete boxplot\n",
        "x1 = sampleA\n",
        "x2 = sampleB\n",
        "plt.boxplot([x1,x2], labels=['x1', 'x2'], notch=True)\n",
        "plt.xlabel('Fitness')\n",
        "plt.ylabel('Outputs')\n",
        "plt.title('Boxplot')\n",
        "\n",
        "plt.show()                                                           \n",
        "plt.close()"
      ]
    },
    {
      "cell_type": "code",
      "execution_count": 91,
      "metadata": {
        "trusted": true
      },
      "outputs": [
        {
          "name": "stdout",
          "output_type": "stream",
          "text": [
            "rozdil NENI vyznamny, rozlozeni JE normalni, p =  0.3321069403118829\n",
            "rozdil NENI vyznamny, rozlozeni JE normalni, p =  0.3876783867032465\n",
            "rozdil JE vyznamny, rozlozeni NEMOHOU mit stejnou streni hodnotu, p =  7.638743250115688e-21\n"
          ]
        }
      ],
      "source": [
        "#==================================================================================================================\n",
        "# Statisticke testy - pro dva parametry\n",
        "#==================================================================================================================\n",
        "\n",
        "sampleA = results[0,:,-1]\n",
        "sampleB = results[1,:,-1]\n",
        "alpha = 0.05\n",
        "\n",
        "# pro dve ruzna nastaveni mutace overte jestli je rozlozeni vyslednyhc fitness normalni\n",
        "# a odpovidajicim testem overte jestli jejich stredni hodnty jsou nebo nejsou vyznamne rozdilne\n",
        "\n",
        "t, p = st.normaltest(sampleA)\n",
        "if (p > alpha):\n",
        "    print('rozdil NENI vyznamny, rozlozeni JE normalni, p = ', p)\n",
        "else:\n",
        "    print('rozdil JE vyznamny, rozlozeni NENI normalni, p = ', p)\n",
        "\n",
        "t, p = st.normaltest(sampleB)\n",
        "if (p > alpha):\n",
        "    print('rozdil NENI vyznamny, rozlozeni JE normalni, p = ', p)\n",
        "else:\n",
        "    print('rozdil JE vyznamny, rozlozeni NENI normalni, p = ', p)\n",
        "    \n",
        "t, p = st.ttest_ind(sampleA,sampleB)\n",
        "if (p > alpha):\n",
        "    print('rozdil NENI vyznamny, rozlozeni MOHOU mit stejnou streni hodnotu, p = ', p)\n",
        "else:\n",
        "    print('rozdil JE vyznamny, rozlozeni NEMOHOU mit stejnou streni hodnotu, p = ', p)\n",
        "#=================================================================================================================="
      ]
    },
    {
      "cell_type": "code",
      "execution_count": null,
      "metadata": {},
      "outputs": [],
      "source": []
    }
  ],
  "metadata": {
    "interpreter": {
      "hash": "00c84623151622868f6f4fa18e6fd866db3278664a02e1326ef43c425e3dad1b"
    },
    "kernelspec": {
      "display_name": "Pyolite",
      "language": "python",
      "name": "python3"
    },
    "language_info": {
      "codemirror_mode": {
        "name": "ipython",
        "version": 3
      },
      "file_extension": ".py",
      "mimetype": "text/x-python",
      "name": "python",
      "nbconvert_exporter": "python",
      "pygments_lexer": "ipython3",
      "version": "3.9.2"
    }
  },
  "nbformat": 4,
  "nbformat_minor": 4
}
